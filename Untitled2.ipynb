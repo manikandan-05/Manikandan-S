{
  "nbformat": 4,
  "nbformat_minor": 0,
  "metadata": {
    "colab": {
      "name": "Untitled2.ipynb",
      "provenance": [],
      "authorship_tag": "ABX9TyMSpe5wiLzIJ33+cccIaaGa",
      "include_colab_link": true
    },
    "kernelspec": {
      "name": "python3",
      "display_name": "Python 3"
    },
    "language_info": {
      "name": "python"
    }
  },
  "cells": [
    {
      "cell_type": "markdown",
      "metadata": {
        "id": "view-in-github",
        "colab_type": "text"
      },
      "source": [
        "<a href=\"https://colab.research.google.com/github/manikandan-05/Manikandan-S/blob/main/Untitled2.ipynb\" target=\"_parent\"><img src=\"https://colab.research.google.com/assets/colab-badge.svg\" alt=\"Open In Colab\"/></a>"
      ]
    },
    {
      "cell_type": "code",
      "metadata": {
        "colab": {
          "base_uri": "https://localhost:8080/"
        },
        "id": "tmdt88ZxIQSC",
        "outputId": "0b32b574-981c-42e8-9570-9e1872beb3f7"
      },
      "source": [
        " \n",
        "P = int(input(\"enter the principle value:\"))\n",
        "R = int(input(\"enter the rate value:\"))\n",
        "T = int(input(\"enter the year:\"))\n",
        "# simple interest\n",
        "SI = (P * R * T) / 100\n",
        "print(\"simple interest is\", SI)"
      ],
      "execution_count": 1,
      "outputs": [
        {
          "output_type": "stream",
          "text": [
            "enter the principle value:22\n",
            "enter the rate value:55\n",
            "enter the year:2020\n",
            "simple interest is 24442.0\n"
          ],
          "name": "stdout"
        }
      ]
    }
  ]
}