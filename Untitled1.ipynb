{
  "nbformat": 4,
  "nbformat_minor": 0,
  "metadata": {
    "colab": {
      "name": "Untitled1.ipynb",
      "provenance": [],
      "authorship_tag": "ABX9TyPKaDotOzUiG9V1qXcp/tcx",
      "include_colab_link": true
    },
    "kernelspec": {
      "name": "python3",
      "display_name": "Python 3"
    },
    "language_info": {
      "name": "python"
    }
  },
  "cells": [
    {
      "cell_type": "markdown",
      "metadata": {
        "id": "view-in-github",
        "colab_type": "text"
      },
      "source": [
        "<a href=\"https://colab.research.google.com/github/manikandan-05/Manikandan-S/blob/main/Untitled1.ipynb\" target=\"_parent\"><img src=\"https://colab.research.google.com/assets/colab-badge.svg\" alt=\"Open In Colab\"/></a>"
      ]
    },
    {
      "cell_type": "code",
      "metadata": {
        "colab": {
          "base_uri": "https://localhost:8080/"
        },
        "id": "sk1BgpWd3lBs",
        "outputId": "2a893523-fd49-4d79-f9dc-a51df380f043"
      },
      "source": [
        "a=int(input(\"Enter the number A:\"))\n",
        "b=int(input(\"Enter the number B:\"))\n",
        "print(\"Addition=\",a+b)\n",
        "print(\"subraction=\",a-b)\n",
        "print(\"multiplication=\",a*b)\n",
        "print(\"exponent=\",a**b)\n",
        "print(\"floor division=\",a//b)\n",
        "print(\"division=\",a/b)"
      ],
      "execution_count": 1,
      "outputs": [
        {
          "output_type": "stream",
          "text": [
            "Enter the number A:21\n",
            "Enter the number B:45\n",
            "Addition= 66\n",
            "subraction= -24\n",
            "multiplication= 945\n",
            "exponent= 316131857427306285125283746813957016869585062394683021916901\n",
            "floor division= 0\n",
            "division= 0.4666666666666667\n"
          ],
          "name": "stdout"
        }
      ]
    }
  ]
}