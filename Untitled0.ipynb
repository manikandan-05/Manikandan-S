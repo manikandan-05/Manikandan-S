{
  "nbformat": 4,
  "nbformat_minor": 0,
  "metadata": {
    "colab": {
      "name": "Untitled0.ipynb",
      "provenance": [],
      "authorship_tag": "ABX9TyPU03u6Eg/deNUzBiV5bwSp",
      "include_colab_link": true
    },
    "kernelspec": {
      "name": "python3",
      "display_name": "Python 3"
    },
    "language_info": {
      "name": "python"
    }
  },
  "cells": [
    {
      "cell_type": "markdown",
      "metadata": {
        "id": "view-in-github",
        "colab_type": "text"
      },
      "source": [
        "<a href=\"https://colab.research.google.com/github/manikandan-05/Manikandan-S/blob/main/Untitled0.ipynb\" target=\"_parent\"><img src=\"https://colab.research.google.com/assets/colab-badge.svg\" alt=\"Open In Colab\"/></a>"
      ]
    },
    {
      "cell_type": "code",
      "metadata": {
        "colab": {
          "base_uri": "https://localhost:8080/"
        },
        "id": "lbKqz6jdR1cD",
        "outputId": "251f3d4f-1ed3-4021-df25-d68b2e9df64e"
      },
      "source": [
        "a=int(input(\"Enter a number A:\"))\n",
        "b=int(input(\"Enter a number B:\"))\n",
        "print(\"Addition=\",a+b)\n",
        "print(\"subraction=\",a-b)\n",
        "print(\"Multiplication=\",a*b)\n",
        "print(\"Exponent=\",a**b)\n",
        "print(\"Floor division =\",a//b)\n",
        "print(\"Division=\",a/b)"
      ],
      "execution_count": 5,
      "outputs": [
        {
          "output_type": "stream",
          "text": [
            "Enter a number A:44\n",
            "Enter a number B:55\n",
            "Addition= 99\n",
            "subraction= -11\n",
            "Multiplication= 2420\n",
            "Exponent= 2454127978827264271087665173489762127868017461208347716238318569131149616194404694280372224\n",
            "Floor division = 0\n",
            "Division= 0.8\n"
          ],
          "name": "stdout"
        }
      ]
    }
  ]
}