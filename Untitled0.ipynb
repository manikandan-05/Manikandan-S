{
  "nbformat": 4,
  "nbformat_minor": 0,
  "metadata": {
    "colab": {
      "name": "Untitled0.ipynb",
      "provenance": [],
      "authorship_tag": "ABX9TyNe05i0KE3vl7Vsf28Z2fxB",
      "include_colab_link": true
    },
    "kernelspec": {
      "name": "python3",
      "display_name": "Python 3"
    },
    "language_info": {
      "name": "python"
    }
  },
  "cells": [
    {
      "cell_type": "markdown",
      "metadata": {
        "id": "view-in-github",
        "colab_type": "text"
      },
      "source": [
        "<a href=\"https://colab.research.google.com/github/manikandan-05/Manikandan-S/blob/main/Untitled0.ipynb\" target=\"_parent\"><img src=\"https://colab.research.google.com/assets/colab-badge.svg\" alt=\"Open In Colab\"/></a>"
      ]
    },
    {
      "cell_type": "code",
      "metadata": {
        "colab": {
          "base_uri": "https://localhost:8080/"
        },
        "id": "lbKqz6jdR1cD",
        "outputId": "92a7ab3c-8ff1-4393-fed9-2005b43ab1b9"
      },
      "source": [
        "a=int(input(\"Enter a first number:\"))\n",
        "b=int(input(\"Enter a second number:\"))\n",
        "temp=a\n",
        "a=b\n",
        "b=temp\n",
        "print(\"After swagging number s\")\n",
        "print(\"The value of a is:\",a)\n",
        "print(\"The value of b is:\",b)"
      ],
      "execution_count": 7,
      "outputs": [
        {
          "output_type": "stream",
          "text": [
            "Enter a first number:23\n",
            "Enter a second number:55\n",
            "After swagging number s\n",
            "The value of a is: 55\n",
            "The value of b is: 23\n"
          ],
          "name": "stdout"
        }
      ]
    }
  ]
}