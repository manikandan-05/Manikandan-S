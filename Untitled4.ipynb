{
  "nbformat": 4,
  "nbformat_minor": 0,
  "metadata": {
    "colab": {
      "name": "Untitled4.ipynb",
      "provenance": [],
      "authorship_tag": "ABX9TyNFY8C6XXxCNopX6uVkqG+G",
      "include_colab_link": true
    },
    "kernelspec": {
      "name": "python3",
      "display_name": "Python 3"
    },
    "language_info": {
      "name": "python"
    }
  },
  "cells": [
    {
      "cell_type": "markdown",
      "metadata": {
        "id": "view-in-github",
        "colab_type": "text"
      },
      "source": [
        "<a href=\"https://colab.research.google.com/github/manikandan-05/Manikandan-S/blob/main/Untitled4.ipynb\" target=\"_parent\"><img src=\"https://colab.research.google.com/assets/colab-badge.svg\" alt=\"Open In Colab\"/></a>"
      ]
    },
    {
      "cell_type": "code",
      "metadata": {
        "colab": {
          "base_uri": "https://localhost:8080/"
        },
        "id": "K5ZoRMaKJyAc",
        "outputId": "84eb6438-a6eb-4292-a3b8-660997099c02"
      },
      "source": [
        " \n",
        "name=str(input(\"Enter the name:\"))\n",
        "age=int(input(\"Enter the age:\"))\n",
        "address=str(input(\"Enter the address:\"))\n",
        "salary=int(input(\"Enter the salary:\"))\n",
        "number=int(input(\"Enter the number:\"))\n",
        "print(\"NAME:\",name)\n",
        "print(\"AGE:\",age)\n",
        "print(\"ADDRESS:\",address)\n",
        "print(\"SALARY:\",salary)\n",
        "print(\"NUMBER\",number)"
      ],
      "execution_count": 1,
      "outputs": [
        {
          "output_type": "stream",
          "text": [
            "Enter the name:Mani\n",
            "Enter the age:55\n",
            "Enter the address:Erode\n",
            "Enter the salary:55555\n",
            "Enter the number:55555\n",
            "NAME: Mani\n",
            "AGE: 55\n",
            "ADDRESS: Erode\n",
            "SALARY: 55555\n",
            "NUMBER 55555\n"
          ],
          "name": "stdout"
        }
      ]
    }
  ]
}