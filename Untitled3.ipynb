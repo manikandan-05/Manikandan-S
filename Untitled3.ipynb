{
  "nbformat": 4,
  "nbformat_minor": 0,
  "metadata": {
    "colab": {
      "name": "Untitled3.ipynb",
      "provenance": [],
      "authorship_tag": "ABX9TyNOyWfEbPjKviH837VQ8uYw",
      "include_colab_link": true
    },
    "kernelspec": {
      "name": "python3",
      "display_name": "Python 3"
    },
    "language_info": {
      "name": "python"
    }
  },
  "cells": [
    {
      "cell_type": "markdown",
      "metadata": {
        "id": "view-in-github",
        "colab_type": "text"
      },
      "source": [
        "<a href=\"https://colab.research.google.com/github/manikandan-05/Manikandan-S/blob/main/Untitled3.ipynb\" target=\"_parent\"><img src=\"https://colab.research.google.com/assets/colab-badge.svg\" alt=\"Open In Colab\"/></a>"
      ]
    },
    {
      "cell_type": "code",
      "metadata": {
        "colab": {
          "base_uri": "https://localhost:8080/"
        },
        "id": "ab_Gak31JG61",
        "outputId": "ebd95950-90a5-49a0-e5e2-4a28e8f394e9"
      },
      "source": [
        " \n",
        " \n",
        "name=str(input(\"Enter the string:\"))\n",
        "print(\"reverse the string is:\",name[::-1])"
      ],
      "execution_count": 2,
      "outputs": [
        {
          "output_type": "stream",
          "text": [
            "Enter the string:Manikandan\n",
            "reverse the string is: nadnakinaM\n"
          ],
          "name": "stdout"
        }
      ]
    }
  ]
}